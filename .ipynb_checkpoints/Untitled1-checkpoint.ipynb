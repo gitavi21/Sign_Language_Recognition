{
 "cells": [
  {
   "cell_type": "code",
   "execution_count": 1,
   "id": "8bac868e",
   "metadata": {},
   "outputs": [
    {
     "name": "stdout",
     "output_type": "stream",
     "text": [
      "Requirement already satisfied: tensorflow==2.4.1 in c:\\users\\mushhead\\pycharmprojects\\12\\venv\\lib\\site-packages (2.4.1)\n",
      "Requirement already satisfied: tensorflow-gpu==2.4.1 in c:\\users\\mushhead\\pycharmprojects\\12\\venv\\lib\\site-packages (2.4.1)\n",
      "Requirement already satisfied: opencv-python in c:\\users\\mushhead\\pycharmprojects\\12\\venv\\lib\\site-packages (4.5.5.64)\n",
      "Requirement already satisfied: mediapipe in c:\\users\\mushhead\\pycharmprojects\\12\\venv\\lib\\site-packages (0.8.9.1)\n",
      "Requirement already satisfied: sklearn in c:\\users\\mushhead\\pycharmprojects\\12\\venv\\lib\\site-packages (0.0)\n",
      "Requirement already satisfied: matplotlib in c:\\users\\mushhead\\pycharmprojects\\12\\venv\\lib\\site-packages (3.5.1)\n",
      "Requirement already satisfied: tensorflow-estimator<2.5.0,>=2.4.0 in c:\\users\\mushhead\\pycharmprojects\\12\\venv\\lib\\site-packages (from tensorflow==2.4.1) (2.4.0)\n",
      "Requirement already satisfied: grpcio~=1.32.0 in c:\\users\\mushhead\\pycharmprojects\\12\\venv\\lib\\site-packages (from tensorflow==2.4.1) (1.32.0)\n",
      "Requirement already satisfied: wheel~=0.35 in c:\\users\\mushhead\\pycharmprojects\\12\\venv\\lib\\site-packages (from tensorflow==2.4.1) (0.36.2)\n",
      "Requirement already satisfied: wrapt~=1.12.1 in c:\\users\\mushhead\\pycharmprojects\\12\\venv\\lib\\site-packages (from tensorflow==2.4.1) (1.12.1)\n",
      "Requirement already satisfied: typing-extensions~=3.7.4 in c:\\users\\mushhead\\pycharmprojects\\12\\venv\\lib\\site-packages (from tensorflow==2.4.1) (3.7.4.3)\n",
      "Requirement already satisfied: h5py~=2.10.0 in c:\\users\\mushhead\\pycharmprojects\\12\\venv\\lib\\site-packages (from tensorflow==2.4.1) (2.10.0)\n",
      "Requirement already satisfied: opt-einsum~=3.3.0 in c:\\users\\mushhead\\pycharmprojects\\12\\venv\\lib\\site-packages (from tensorflow==2.4.1) (3.3.0)\n",
      "Requirement already satisfied: six~=1.15.0 in c:\\users\\mushhead\\pycharmprojects\\12\\venv\\lib\\site-packages (from tensorflow==2.4.1) (1.15.0)\n",
      "Requirement already satisfied: protobuf>=3.9.2 in c:\\users\\mushhead\\pycharmprojects\\12\\venv\\lib\\site-packages (from tensorflow==2.4.1) (3.20.0)\n",
      "Requirement already satisfied: gast==0.3.3 in c:\\users\\mushhead\\pycharmprojects\\12\\venv\\lib\\site-packages (from tensorflow==2.4.1) (0.3.3)\n",
      "Requirement already satisfied: google-pasta~=0.2 in c:\\users\\mushhead\\pycharmprojects\\12\\venv\\lib\\site-packages (from tensorflow==2.4.1) (0.2.0)\n",
      "Requirement already satisfied: flatbuffers~=1.12.0 in c:\\users\\mushhead\\pycharmprojects\\12\\venv\\lib\\site-packages (from tensorflow==2.4.1) (1.12)\n",
      "Requirement already satisfied: numpy~=1.19.2 in c:\\users\\mushhead\\pycharmprojects\\12\\venv\\lib\\site-packages (from tensorflow==2.4.1) (1.19.5)\n",
      "Requirement already satisfied: termcolor~=1.1.0 in c:\\users\\mushhead\\pycharmprojects\\12\\venv\\lib\\site-packages (from tensorflow==2.4.1) (1.1.0)\n",
      "Requirement already satisfied: keras-preprocessing~=1.1.2 in c:\\users\\mushhead\\pycharmprojects\\12\\venv\\lib\\site-packages (from tensorflow==2.4.1) (1.1.2)\n",
      "Requirement already satisfied: astunparse~=1.6.3 in c:\\users\\mushhead\\pycharmprojects\\12\\venv\\lib\\site-packages (from tensorflow==2.4.1) (1.6.3)\n",
      "Collecting tensorboard~=2.4\n",
      "  Using cached tensorboard-2.8.0-py3-none-any.whl (5.8 MB)\n",
      "Requirement already satisfied: absl-py~=0.10 in c:\\users\\mushhead\\pycharmprojects\\12\\venv\\lib\\site-packages (from tensorflow==2.4.1) (0.15.0)\n",
      "Requirement already satisfied: tensorboard-data-server<0.7.0,>=0.6.0 in c:\\users\\mushhead\\pycharmprojects\\12\\venv\\lib\\site-packages (from tensorboard~=2.4->tensorflow==2.4.1) (0.6.1)\n",
      "Requirement already satisfied: werkzeug>=0.11.15 in c:\\users\\mushhead\\pycharmprojects\\12\\venv\\lib\\site-packages (from tensorboard~=2.4->tensorflow==2.4.1) (2.1.1)\n",
      "Requirement already satisfied: google-auth<3,>=1.6.3 in c:\\users\\mushhead\\pycharmprojects\\12\\venv\\lib\\site-packages (from tensorboard~=2.4->tensorflow==2.4.1) (2.6.5)\n",
      "Requirement already satisfied: tensorboard-plugin-wit>=1.6.0 in c:\\users\\mushhead\\pycharmprojects\\12\\venv\\lib\\site-packages (from tensorboard~=2.4->tensorflow==2.4.1) (1.8.1)\n",
      "Requirement already satisfied: requests<3,>=2.21.0 in c:\\users\\mushhead\\pycharmprojects\\12\\venv\\lib\\site-packages (from tensorboard~=2.4->tensorflow==2.4.1) (2.27.1)\n",
      "Requirement already satisfied: google-auth-oauthlib<0.5,>=0.4.1 in c:\\users\\mushhead\\pycharmprojects\\12\\venv\\lib\\site-packages (from tensorboard~=2.4->tensorflow==2.4.1) (0.4.6)\n",
      "Requirement already satisfied: setuptools>=41.0.0 in c:\\users\\mushhead\\pycharmprojects\\12\\venv\\lib\\site-packages (from tensorboard~=2.4->tensorflow==2.4.1) (57.0.0)\n",
      "Requirement already satisfied: markdown>=2.6.8 in c:\\users\\mushhead\\pycharmprojects\\12\\venv\\lib\\site-packages (from tensorboard~=2.4->tensorflow==2.4.1) (3.3.6)\n",
      "Requirement already satisfied: rsa<5,>=3.1.4 in c:\\users\\mushhead\\pycharmprojects\\12\\venv\\lib\\site-packages (from google-auth<3,>=1.6.3->tensorboard~=2.4->tensorflow==2.4.1) (4.8)\n",
      "Requirement already satisfied: pyasn1-modules>=0.2.1 in c:\\users\\mushhead\\pycharmprojects\\12\\venv\\lib\\site-packages (from google-auth<3,>=1.6.3->tensorboard~=2.4->tensorflow==2.4.1) (0.2.8)\n",
      "Requirement already satisfied: cachetools<6.0,>=2.0.0 in c:\\users\\mushhead\\pycharmprojects\\12\\venv\\lib\\site-packages (from google-auth<3,>=1.6.3->tensorboard~=2.4->tensorflow==2.4.1) (5.0.0)\n",
      "Requirement already satisfied: requests-oauthlib>=0.7.0 in c:\\users\\mushhead\\pycharmprojects\\12\\venv\\lib\\site-packages (from google-auth-oauthlib<0.5,>=0.4.1->tensorboard~=2.4->tensorflow==2.4.1) (1.3.1)\n",
      "Requirement already satisfied: importlib-metadata>=4.4 in c:\\users\\mushhead\\pycharmprojects\\12\\venv\\lib\\site-packages (from markdown>=2.6.8->tensorboard~=2.4->tensorflow==2.4.1) (4.11.3)\n",
      "Requirement already satisfied: zipp>=0.5 in c:\\users\\mushhead\\pycharmprojects\\12\\venv\\lib\\site-packages (from importlib-metadata>=4.4->markdown>=2.6.8->tensorboard~=2.4->tensorflow==2.4.1) (3.8.0)\n",
      "Requirement already satisfied: pyasn1<0.5.0,>=0.4.6 in c:\\users\\mushhead\\pycharmprojects\\12\\venv\\lib\\site-packages (from pyasn1-modules>=0.2.1->google-auth<3,>=1.6.3->tensorboard~=2.4->tensorflow==2.4.1) (0.4.8)\n",
      "Requirement already satisfied: urllib3<1.27,>=1.21.1 in c:\\users\\mushhead\\pycharmprojects\\12\\venv\\lib\\site-packages (from requests<3,>=2.21.0->tensorboard~=2.4->tensorflow==2.4.1) (1.26.9)\n",
      "Requirement already satisfied: certifi>=2017.4.17 in c:\\users\\mushhead\\pycharmprojects\\12\\venv\\lib\\site-packages (from requests<3,>=2.21.0->tensorboard~=2.4->tensorflow==2.4.1) (2021.10.8)\n",
      "Requirement already satisfied: charset-normalizer~=2.0.0 in c:\\users\\mushhead\\pycharmprojects\\12\\venv\\lib\\site-packages (from requests<3,>=2.21.0->tensorboard~=2.4->tensorflow==2.4.1) (2.0.12)\n",
      "Requirement already satisfied: idna<4,>=2.5 in c:\\users\\mushhead\\pycharmprojects\\12\\venv\\lib\\site-packages (from requests<3,>=2.21.0->tensorboard~=2.4->tensorflow==2.4.1) (3.3)\n",
      "Requirement already satisfied: oauthlib>=3.0.0 in c:\\users\\mushhead\\pycharmprojects\\12\\venv\\lib\\site-packages (from requests-oauthlib>=0.7.0->google-auth-oauthlib<0.5,>=0.4.1->tensorboard~=2.4->tensorflow==2.4.1) (3.2.0)\n",
      "Requirement already satisfied: attrs>=19.1.0 in c:\\users\\mushhead\\pycharmprojects\\12\\venv\\lib\\site-packages (from mediapipe) (21.4.0)\n",
      "Requirement already satisfied: opencv-contrib-python in c:\\users\\mushhead\\pycharmprojects\\12\\venv\\lib\\site-packages (from mediapipe) (4.5.5.64)\n",
      "Requirement already satisfied: scikit-learn in c:\\users\\mushhead\\pycharmprojects\\12\\venv\\lib\\site-packages (from sklearn) (1.0.2)\n",
      "Requirement already satisfied: kiwisolver>=1.0.1 in c:\\users\\mushhead\\pycharmprojects\\12\\venv\\lib\\site-packages (from matplotlib) (1.4.2)\n",
      "Requirement already satisfied: cycler>=0.10 in c:\\users\\mushhead\\pycharmprojects\\12\\venv\\lib\\site-packages (from matplotlib) (0.11.0)\n",
      "Requirement already satisfied: pyparsing>=2.2.1 in c:\\users\\mushhead\\pycharmprojects\\12\\venv\\lib\\site-packages (from matplotlib) (3.0.8)\n",
      "Requirement already satisfied: pillow>=6.2.0 in c:\\users\\mushhead\\pycharmprojects\\12\\venv\\lib\\site-packages (from matplotlib) (9.1.0)\n",
      "Requirement already satisfied: fonttools>=4.22.0 in c:\\users\\mushhead\\pycharmprojects\\12\\venv\\lib\\site-packages (from matplotlib) (4.32.0)\n",
      "Requirement already satisfied: packaging>=20.0 in c:\\users\\mushhead\\pycharmprojects\\12\\venv\\lib\\site-packages (from matplotlib) (21.3)\n",
      "Requirement already satisfied: python-dateutil>=2.7 in c:\\users\\mushhead\\pycharmprojects\\12\\venv\\lib\\site-packages (from matplotlib) (2.8.2)\n",
      "Requirement already satisfied: joblib>=0.11 in c:\\users\\mushhead\\pycharmprojects\\12\\venv\\lib\\site-packages (from scikit-learn->sklearn) (1.1.0)\n",
      "Requirement already satisfied: scipy>=1.1.0 in c:\\users\\mushhead\\pycharmprojects\\12\\venv\\lib\\site-packages (from scikit-learn->sklearn) (1.8.0)\n",
      "Requirement already satisfied: threadpoolctl>=2.0.0 in c:\\users\\mushhead\\pycharmprojects\\12\\venv\\lib\\site-packages (from scikit-learn->sklearn) (3.1.0)\n",
      "Installing collected packages: tensorboard\n",
      "Successfully installed tensorboard-2.8.0\n"
     ]
    },
    {
     "name": "stderr",
     "output_type": "stream",
     "text": [
      "WARNING: You are using pip version 21.1.2; however, version 22.0.4 is available.\n",
      "You should consider upgrading via the 'C:\\Users\\Mushhead\\PycharmProjects\\12\\venv\\Scripts\\python.exe -m pip install --upgrade pip' command.\n"
     ]
    }
   ],
   "source": [
    "!pip install tensorflow==2.4.1 tensorflow-gpu==2.4.1 opencv-python mediapipe sklearn matplotlib\n"
   ]
  },
  {
   "cell_type": "markdown",
   "id": "54c48493",
   "metadata": {},
   "source": [
    "import cv2\n",
    "import numpy as np\n",
    "import os\n",
    "from matplotlib import pyplot as plt\n",
    "import time\n",
    "import mediapipe as mp"
   ]
  },
  {
   "cell_type": "markdown",
   "id": "88ca9e3a",
   "metadata": {},
   "source": [
    "2. Keypoints using MP Holistic"
   ]
  },
  {
   "cell_type": "code",
   "execution_count": null,
   "id": "60bda98c",
   "metadata": {},
   "outputs": [],
   "source": [
    "mp_holistic = mp.solutions.holistic # Holistic model\n",
    "mp_drawing = mp.solutions.drawing_utils # Drawing utilities"
   ]
  }
 ],
 "metadata": {
  "kernelspec": {
   "display_name": "Python 3 (ipykernel)",
   "language": "python",
   "name": "python3"
  },
  "language_info": {
   "codemirror_mode": {
    "name": "ipython",
    "version": 3
   },
   "file_extension": ".py",
   "mimetype": "text/x-python",
   "name": "python",
   "nbconvert_exporter": "python",
   "pygments_lexer": "ipython3",
   "version": "3.8.0"
  }
 },
 "nbformat": 4,
 "nbformat_minor": 5
}
